{
  "nbformat": 4,
  "nbformat_minor": 0,
  "metadata": {
    "colab": {
      "provenance": []
    },
    "kernelspec": {
      "name": "python3",
      "display_name": "Python 3"
    },
    "language_info": {
      "name": "python"
    }
  },
  "cells": [
    {
      "cell_type": "code",
      "execution_count": 5,
      "metadata": {
        "colab": {
          "base_uri": "https://localhost:8080/"
        },
        "id": "Gzuz_OtQD9t1",
        "outputId": "e4ec3041-7fe3-45da-c822-c261592a13c4"
      },
      "outputs": [
        {
          "output_type": "stream",
          "name": "stdout",
          "text": [
            "嗨!您想查詢什麼?(藥方名稱/出典/處方/效能/適應症/退出查詢):嗨\n",
            "輸入無效，請重新輸入。\n",
            "嗨!您想查詢什麼?(藥方名稱/出典/處方/效能/適應症/退出查詢):藥方名稱\n",
            "人參敗毒散\n",
            "嗨!您想查詢什麼?(藥方名稱/出典/處方/效能/適應症/退出查詢):出典\n",
            "人參敗毒散的出典為:太平惠民和劑局方\n",
            "嗨!您想查詢什麼?(藥方名稱/出典/處方/效能/適應症/退出查詢):處方\n",
            "人參敗毒散的處方為:\n",
            "人參:3公克\n",
            "茯苓:3公克\n",
            "甘草:1.5公克\n",
            "前胡:3公克\n",
            "川芎:3公克\n",
            "羌活:3公克\n",
            "獨活:3公克\n",
            "桔梗:3公克\n",
            "柴胡:3公克\n",
            "枳殼:3公克\n",
            "生薑:3公克\n",
            "薄荷:0.5公克\n",
            "總克數為:32.0公克\n",
            "嗨!您想查詢什麼?(藥方名稱/出典/處方/效能/適應症/退出查詢):效能\n",
            "人參敗毒散的效能是:益氣解表、散風祛濕\n",
            "嗨!您想查詢什麼?(藥方名稱/出典/處方/效能/適應症/退出查詢):適應症\n",
            "人參敗毒散的適應症有:\n",
            "外感風寒濕邪\n",
            "惡寒發熱無汗\n",
            "頭項強痛\n",
            "肢體煩疼\n",
            "胸膈痞悶\n",
            "鼻塞聲重\n",
            "咳嗽有痰\n",
            "嗨!您想查詢什麼?(藥方名稱/出典/處方/效能/適應症/退出查詢):退出查詢\n",
            "感謝使用，掰掰!\n"
          ]
        }
      ],
      "source": [
        "prescription={\n",
        "    '名稱':'人參敗毒散',\n",
        "    '出典':'太平惠民和劑局方',\n",
        "    '處方':{\n",
        "      '人參':3,\n",
        "      '茯苓':3,\n",
        "      '甘草':1.5,\n",
        "      '前胡':3,\n",
        "      '川芎':3,\n",
        "      '羌活':3,\n",
        "      '獨活':3,\n",
        "      '桔梗':3,\n",
        "      '柴胡':3,\n",
        "      '枳殼':3,\n",
        "      '生薑':3,\n",
        "      '薄荷':0.5\n",
        "    },\n",
        "    '效能':'益氣解表、散風祛濕',\n",
        "    '適應症':['外感風寒濕邪','惡寒發熱無汗','頭項強痛','肢體煩疼','胸膈痞悶','鼻塞聲重','咳嗽有痰']\n",
        "    }\n",
        "while True:\n",
        "\n",
        "  query = input(\"嗨!您想查詢什麼?(藥方名稱/出典/處方/效能/適應症/退出查詢):\")\n",
        "  if query == \"藥方名稱\":\n",
        "    print(f\"{prescription['名稱']}\")\n",
        "  elif query == \"出典\":\n",
        "    print(f\"{prescription['名稱']}的出典為:{prescription['出典']}\")\n",
        "  elif query == \"適應症\":\n",
        "    print(f\"{prescription['名稱']}的適應症有:\")\n",
        "    for symptom in prescription['適應症']:\n",
        "      print(symptom)\n",
        "  elif query == \"處方\":\n",
        "    total_weight = sum(prescription['處方'].values())\n",
        "    print(f\"{prescription['名稱']}的處方為:\")\n",
        "    for medicine, weight in prescription['處方'].items():\n",
        "      print(f\"{medicine}:{weight}公克\")\n",
        "    print(f\"總克數為:{total_weight}公克\")\n",
        "  elif query == \"效能\":\n",
        "     print(f\"{prescription['名稱']}的效能是:{prescription['效能']}\")\n",
        "  elif query == \"退出查詢\":\n",
        "    print(\"感謝使用，掰掰!\")\n",
        "    break\n",
        "  else:\n",
        "    print(\"輸入無效，請重新輸入。\")"
      ]
    }
  ]
}